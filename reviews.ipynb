{
 "cells": [
  {
   "cell_type": "code",
   "execution_count": 18,
   "metadata": {},
   "outputs": [
    {
     "name": "stdout",
     "output_type": "stream",
     "text": [
      "Review.json Write success ✅\n"
     ]
    }
   ],
   "source": [
    "# Parsing the review data:\n",
    "\n",
    "\n",
    "import pandas as pd\n",
    "import json\n",
    "import numpy as np\n",
    "\n",
    "df = pd.read_excel('responses.xlsx','Cleaned responses')\n",
    "\n",
    "f = open('sample_metadata.json')\n",
    "data = json.load(f)\n",
    "\n",
    "realUnits = data['unique_unit']\n",
    "\n",
    "# CODE TO READ REVIEWS FROM EXCEL SHEET\n",
    "reviews = dict()\n",
    "for ru in realUnits:\n",
    "    reviews[ru] = list()   \n",
    "    \n",
    "units  = []\n",
    "for index, row in df.iterrows():\n",
    "\n",
    "    toAdd = \"\"\n",
    "    u = str(row['Unit'])\n",
    "    if len(u.split(\"-\")) > 1:\n",
    "        toAdd = u.split(\"-\")[1]\n",
    "    else:\n",
    "        toAdd = u\n",
    "    \n",
    "    if toAdd in realUnits:\n",
    "        units.append(toAdd)\n",
    "        reviewObj = {\n",
    "            'job_title': str(row['Job Title']).strip(),\n",
    "            'hourly_rate': str(row['Hourly Rate']).strip(),\n",
    "            'review': str(row['Review']).strip(),\n",
    "            'timestamp': str(row['Timestamp']).strip() \n",
    "        }\n",
    "        reviews[toAdd].append(reviewObj)\n",
    "    else:\n",
    "        print(\"❌❌ ERORR \", toAdd, \" INDEX: \", index)\n",
    "\n",
    "units = list(set(units))\n",
    "# print(units)\n",
    "# print(\"------------\")\n",
    "# for x in units:\n",
    "#     print(x)\n",
    "\n",
    "# print(reviews)\n",
    "json_object = json.dumps(reviews, indent=4)\n",
    "with open(\"unit_reviews.json\", \"w\") as outfile:\n",
    "    outfile.write(json_object)\n",
    "\n",
    "print(\"Review.json Write success ✅\")"
   ]
  },
  {
   "cell_type": "code",
   "execution_count": 19,
   "metadata": {},
   "outputs": [
    {
     "name": "stdout",
     "output_type": "stream",
     "text": [
      "unitReview with wage range.json Write success ✅\n"
     ]
    }
   ],
   "source": [
    "f1 = open('sample_year.json')\n",
    "all = json.load(f1)\n",
    "allYears = all['2018'] + all['2019'] + all['2020']+ all['2021'] + all['2022']\n",
    "f2 = open('unit_reviews.json')\n",
    "unitReviews = json.load(f2)\n",
    "\n",
    "def getMinMax(targetUnit):\n",
    "    min = 1000\n",
    "    max = -1000\n",
    "\n",
    "    \n",
    "    for e in allYears:\n",
    "        if e['unit'] == targetUnit:\n",
    "            wage = e['wage']\n",
    "            if wage < min:\n",
    "                min = wage\n",
    "            if wage > max:\n",
    "                max = wage\n",
    "    return (min, max)\n",
    "\n",
    "replaceDict = dict()\n",
    "for unitName in unitReviews:\n",
    "    takeReviews = unitReviews[unitName]\n",
    "    min, max =getMinMax(unitName)\n",
    "    \n",
    "    replaceDict[unitName] = {\n",
    "        'wage_range': {'min': min, 'max': max},\n",
    "        'reviews': takeReviews\n",
    "    }\n",
    "\n",
    "json_object = json.dumps(replaceDict, indent=4)\n",
    "with open(\"unit_reviews.json\", \"w\") as outfile:\n",
    "    outfile.write(json_object)\n",
    "\n",
    "print(\"unitReview with wage range.json Write success ✅\")\n"
   ]
  },
  {
   "cell_type": "code",
   "execution_count": null,
   "metadata": {},
   "outputs": [],
   "source": []
  }
 ],
 "metadata": {
  "kernelspec": {
   "display_name": "Python 3",
   "language": "python",
   "name": "python3"
  },
  "language_info": {
   "codemirror_mode": {
    "name": "ipython",
    "version": 3
   },
   "file_extension": ".py",
   "mimetype": "text/x-python",
   "name": "python",
   "nbconvert_exporter": "python",
   "pygments_lexer": "ipython3",
   "version": "3.9.13"
  },
  "orig_nbformat": 4,
  "vscode": {
   "interpreter": {
    "hash": "ca6e206ddc6a049fe89984404c73e5c4c4869ce87a5d39763d34463ab8559ce1"
   }
  }
 },
 "nbformat": 4,
 "nbformat_minor": 2
}
